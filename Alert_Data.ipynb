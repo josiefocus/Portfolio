{
  "nbformat": 4,
  "nbformat_minor": 0,
  "metadata": {
    "colab": {
      "provenance": []
    },
    "kernelspec": {
      "name": "python3",
      "display_name": "Python 3"
    },
    "language_info": {
      "name": "python"
    }
  },
  "cells": [
    {
      "cell_type": "markdown",
      "source": [
        "# **Read in Libraries & Data**\n"
      ],
      "metadata": {
        "id": "KrXV-iyid2p0"
      }
    },
    {
      "cell_type": "code",
      "execution_count": null,
      "metadata": {
        "id": "BpU8rXz9ohBO",
        "colab": {
          "base_uri": "https://localhost:8080/",
          "height": 354
        },
        "outputId": "c096674e-0a64-461b-e12b-901f973f8b61"
      },
      "outputs": [
        {
          "output_type": "execute_result",
          "data": {
            "text/plain": [
              "        ID        Date      Time  MIN   Latitude  Longitude  \\\n",
              "0  2895493  03/01/2023  20:41:47   72  39.787124 -82.934164   \n",
              "1  2895541  03/01/2023  21:18:59   72  39.787124 -82.934164   \n",
              "2  2895575  03/01/2023  21:53:00   72  39.787124 -82.934164   \n",
              "3  2895627  03/01/2023  22:43:30   72  39.787124 -82.934164   \n",
              "4  2895746  03/02/2023   0:28:18   72  39.787124 -82.934164   \n",
              "\n",
              "           Event Type         Sector Name Threat Level  Clear  \\\n",
              "0  Person(s) detected  Cardinal Health OH          Red   True   \n",
              "1  Person(s) detected  Cardinal Health OH          Red   True   \n",
              "2  Person(s) detected  Cardinal Health OH          Red   True   \n",
              "3  Person(s) detected  Cardinal Health OH          Red   True   \n",
              "4  Person(s) detected  Cardinal Health OH          Red   True   \n",
              "\n",
              "        Clear Date     Clear Time                     Sign-off Name  \\\n",
              "0  ('03/01/2023',)  ('21:22:58',)  watchcommander@digbysecurity.com   \n",
              "1  ('03/01/2023',)  ('21:22:58',)  watchcommander@digbysecurity.com   \n",
              "2  ('03/02/2023',)  ('13:04:26',)  watchcommander@digbysecurity.com   \n",
              "3  ('03/02/2023',)  ('07:44:23',)  watchcommander@digbysecurity.com   \n",
              "4  ('03/02/2023',)  ('13:04:26',)  watchcommander@digbysecurity.com   \n",
              "\n",
              "                    Comments  \n",
              "0  Alerts cleared by wc 0919  \n",
              "1  Alerts cleared by wc 0919  \n",
              "2   Alerts cleared by WC9168  \n",
              "3  Alerts cleared by WC 9168  \n",
              "4   Alerts cleared by WC9168  "
            ],
            "text/html": [
              "\n",
              "  <div id=\"df-70ebec14-27de-41af-9dd1-d77a8ae332ac\">\n",
              "    <div class=\"colab-df-container\">\n",
              "      <div>\n",
              "<style scoped>\n",
              "    .dataframe tbody tr th:only-of-type {\n",
              "        vertical-align: middle;\n",
              "    }\n",
              "\n",
              "    .dataframe tbody tr th {\n",
              "        vertical-align: top;\n",
              "    }\n",
              "\n",
              "    .dataframe thead th {\n",
              "        text-align: right;\n",
              "    }\n",
              "</style>\n",
              "<table border=\"1\" class=\"dataframe\">\n",
              "  <thead>\n",
              "    <tr style=\"text-align: right;\">\n",
              "      <th></th>\n",
              "      <th>ID</th>\n",
              "      <th>Date</th>\n",
              "      <th>Time</th>\n",
              "      <th>MIN</th>\n",
              "      <th>Latitude</th>\n",
              "      <th>Longitude</th>\n",
              "      <th>Event Type</th>\n",
              "      <th>Sector Name</th>\n",
              "      <th>Threat Level</th>\n",
              "      <th>Clear</th>\n",
              "      <th>Clear Date</th>\n",
              "      <th>Clear Time</th>\n",
              "      <th>Sign-off Name</th>\n",
              "      <th>Comments</th>\n",
              "    </tr>\n",
              "  </thead>\n",
              "  <tbody>\n",
              "    <tr>\n",
              "      <th>0</th>\n",
              "      <td>2895493</td>\n",
              "      <td>03/01/2023</td>\n",
              "      <td>20:41:47</td>\n",
              "      <td>72</td>\n",
              "      <td>39.787124</td>\n",
              "      <td>-82.934164</td>\n",
              "      <td>Person(s) detected</td>\n",
              "      <td>Cardinal Health OH</td>\n",
              "      <td>Red</td>\n",
              "      <td>True</td>\n",
              "      <td>('03/01/2023',)</td>\n",
              "      <td>('21:22:58',)</td>\n",
              "      <td>watchcommander@digbysecurity.com</td>\n",
              "      <td>Alerts cleared by wc 0919</td>\n",
              "    </tr>\n",
              "    <tr>\n",
              "      <th>1</th>\n",
              "      <td>2895541</td>\n",
              "      <td>03/01/2023</td>\n",
              "      <td>21:18:59</td>\n",
              "      <td>72</td>\n",
              "      <td>39.787124</td>\n",
              "      <td>-82.934164</td>\n",
              "      <td>Person(s) detected</td>\n",
              "      <td>Cardinal Health OH</td>\n",
              "      <td>Red</td>\n",
              "      <td>True</td>\n",
              "      <td>('03/01/2023',)</td>\n",
              "      <td>('21:22:58',)</td>\n",
              "      <td>watchcommander@digbysecurity.com</td>\n",
              "      <td>Alerts cleared by wc 0919</td>\n",
              "    </tr>\n",
              "    <tr>\n",
              "      <th>2</th>\n",
              "      <td>2895575</td>\n",
              "      <td>03/01/2023</td>\n",
              "      <td>21:53:00</td>\n",
              "      <td>72</td>\n",
              "      <td>39.787124</td>\n",
              "      <td>-82.934164</td>\n",
              "      <td>Person(s) detected</td>\n",
              "      <td>Cardinal Health OH</td>\n",
              "      <td>Red</td>\n",
              "      <td>True</td>\n",
              "      <td>('03/02/2023',)</td>\n",
              "      <td>('13:04:26',)</td>\n",
              "      <td>watchcommander@digbysecurity.com</td>\n",
              "      <td>Alerts cleared by WC9168</td>\n",
              "    </tr>\n",
              "    <tr>\n",
              "      <th>3</th>\n",
              "      <td>2895627</td>\n",
              "      <td>03/01/2023</td>\n",
              "      <td>22:43:30</td>\n",
              "      <td>72</td>\n",
              "      <td>39.787124</td>\n",
              "      <td>-82.934164</td>\n",
              "      <td>Person(s) detected</td>\n",
              "      <td>Cardinal Health OH</td>\n",
              "      <td>Red</td>\n",
              "      <td>True</td>\n",
              "      <td>('03/02/2023',)</td>\n",
              "      <td>('07:44:23',)</td>\n",
              "      <td>watchcommander@digbysecurity.com</td>\n",
              "      <td>Alerts cleared by WC 9168</td>\n",
              "    </tr>\n",
              "    <tr>\n",
              "      <th>4</th>\n",
              "      <td>2895746</td>\n",
              "      <td>03/02/2023</td>\n",
              "      <td>0:28:18</td>\n",
              "      <td>72</td>\n",
              "      <td>39.787124</td>\n",
              "      <td>-82.934164</td>\n",
              "      <td>Person(s) detected</td>\n",
              "      <td>Cardinal Health OH</td>\n",
              "      <td>Red</td>\n",
              "      <td>True</td>\n",
              "      <td>('03/02/2023',)</td>\n",
              "      <td>('13:04:26',)</td>\n",
              "      <td>watchcommander@digbysecurity.com</td>\n",
              "      <td>Alerts cleared by WC9168</td>\n",
              "    </tr>\n",
              "  </tbody>\n",
              "</table>\n",
              "</div>\n",
              "      <button class=\"colab-df-convert\" onclick=\"convertToInteractive('df-70ebec14-27de-41af-9dd1-d77a8ae332ac')\"\n",
              "              title=\"Convert this dataframe to an interactive table.\"\n",
              "              style=\"display:none;\">\n",
              "        \n",
              "  <svg xmlns=\"http://www.w3.org/2000/svg\" height=\"24px\"viewBox=\"0 0 24 24\"\n",
              "       width=\"24px\">\n",
              "    <path d=\"M0 0h24v24H0V0z\" fill=\"none\"/>\n",
              "    <path d=\"M18.56 5.44l.94 2.06.94-2.06 2.06-.94-2.06-.94-.94-2.06-.94 2.06-2.06.94zm-11 1L8.5 8.5l.94-2.06 2.06-.94-2.06-.94L8.5 2.5l-.94 2.06-2.06.94zm10 10l.94 2.06.94-2.06 2.06-.94-2.06-.94-.94-2.06-.94 2.06-2.06.94z\"/><path d=\"M17.41 7.96l-1.37-1.37c-.4-.4-.92-.59-1.43-.59-.52 0-1.04.2-1.43.59L10.3 9.45l-7.72 7.72c-.78.78-.78 2.05 0 2.83L4 21.41c.39.39.9.59 1.41.59.51 0 1.02-.2 1.41-.59l7.78-7.78 2.81-2.81c.8-.78.8-2.07 0-2.86zM5.41 20L4 18.59l7.72-7.72 1.47 1.35L5.41 20z\"/>\n",
              "  </svg>\n",
              "      </button>\n",
              "      \n",
              "  <style>\n",
              "    .colab-df-container {\n",
              "      display:flex;\n",
              "      flex-wrap:wrap;\n",
              "      gap: 12px;\n",
              "    }\n",
              "\n",
              "    .colab-df-convert {\n",
              "      background-color: #E8F0FE;\n",
              "      border: none;\n",
              "      border-radius: 50%;\n",
              "      cursor: pointer;\n",
              "      display: none;\n",
              "      fill: #1967D2;\n",
              "      height: 32px;\n",
              "      padding: 0 0 0 0;\n",
              "      width: 32px;\n",
              "    }\n",
              "\n",
              "    .colab-df-convert:hover {\n",
              "      background-color: #E2EBFA;\n",
              "      box-shadow: 0px 1px 2px rgba(60, 64, 67, 0.3), 0px 1px 3px 1px rgba(60, 64, 67, 0.15);\n",
              "      fill: #174EA6;\n",
              "    }\n",
              "\n",
              "    [theme=dark] .colab-df-convert {\n",
              "      background-color: #3B4455;\n",
              "      fill: #D2E3FC;\n",
              "    }\n",
              "\n",
              "    [theme=dark] .colab-df-convert:hover {\n",
              "      background-color: #434B5C;\n",
              "      box-shadow: 0px 1px 3px 1px rgba(0, 0, 0, 0.15);\n",
              "      filter: drop-shadow(0px 1px 2px rgba(0, 0, 0, 0.3));\n",
              "      fill: #FFFFFF;\n",
              "    }\n",
              "  </style>\n",
              "\n",
              "      <script>\n",
              "        const buttonEl =\n",
              "          document.querySelector('#df-70ebec14-27de-41af-9dd1-d77a8ae332ac button.colab-df-convert');\n",
              "        buttonEl.style.display =\n",
              "          google.colab.kernel.accessAllowed ? 'block' : 'none';\n",
              "\n",
              "        async function convertToInteractive(key) {\n",
              "          const element = document.querySelector('#df-70ebec14-27de-41af-9dd1-d77a8ae332ac');\n",
              "          const dataTable =\n",
              "            await google.colab.kernel.invokeFunction('convertToInteractive',\n",
              "                                                     [key], {});\n",
              "          if (!dataTable) return;\n",
              "\n",
              "          const docLinkHtml = 'Like what you see? Visit the ' +\n",
              "            '<a target=\"_blank\" href=https://colab.research.google.com/notebooks/data_table.ipynb>data table notebook</a>'\n",
              "            + ' to learn more about interactive tables.';\n",
              "          element.innerHTML = '';\n",
              "          dataTable['output_type'] = 'display_data';\n",
              "          await google.colab.output.renderOutput(dataTable, element);\n",
              "          const docLink = document.createElement('div');\n",
              "          docLink.innerHTML = docLinkHtml;\n",
              "          element.appendChild(docLink);\n",
              "        }\n",
              "      </script>\n",
              "    </div>\n",
              "  </div>\n",
              "  "
            ]
          },
          "metadata": {},
          "execution_count": 7
        }
      ],
      "source": [
        "import numpy as np \n",
        "import datetime as dt\n",
        "import pandas as pd\n",
        "import matplotlib.pyplot as plt\n",
        "import os \n",
        "\n",
        "df = pd.read_csv('Events_report.csv') #CHANGE FILE NAME TO 'Events_report.csv'\n",
        "df.head()"
      ]
    },
    {
      "cell_type": "markdown",
      "source": [
        "# **Data Cleaning**"
      ],
      "metadata": {
        "id": "MCQi70LRsjdJ"
      }
    },
    {
      "cell_type": "code",
      "source": [
        "df = df.drop(columns = ['ID', 'Event Type', 'Latitude', 'Longitude', 'MIN', 'Clear', 'Comments', 'Sign-off Name', 'Threat Level', 'Sector Name'])\n",
        "df = df.dropna()\n",
        "\n",
        "df['Clear Date'] = df['Clear Date'].str.replace(r\"(\",\"\")\n",
        "df['Clear Date'] = df['Clear Date'].str.replace(r\")\",\"\")\n",
        "df['Clear Date'] = df['Clear Date'].str.replace(r\"'\",\"\")\n",
        "df['Clear Date'] = df['Clear Date'].str.replace(r\",\",\"\")\n",
        "\n",
        "df['Clear Time'] = df['Clear Time'] .str.replace(r\"(\",\"\")\n",
        "df['Clear Time'] = df['Clear Time'] .str.replace(r\")\",\"\")\n",
        "df['Clear Time'] = df['Clear Time'] .str.replace(r\"'\",\"\")\n",
        "df['Clear Time']  = df['Clear Time'] .str.replace(r\",\",\"\")\n",
        "\n",
        "def datetime(df): \n",
        "  \n",
        "  #Functionality: Converts 4 date & time columns to two DateTime columns \n",
        "  #Asssumes: 4 Columns, 2 clean dates, 2 clean times \n",
        "\n",
        "  df['Date Time' ] = df['Date'] + \" \" +  df['Time']\n",
        "  df['Clear Date Time' ] = df['Clear Date'] + \" \" +  df['Clear Time']\n",
        "  \n",
        "  df['Date Time'] = pd.to_datetime(df['Date Time'], errors='coerce')\n",
        "  df['Clear Date Time'] = pd.to_datetime(df['Clear Date Time'], errors='coerce')\n",
        "\n",
        "datetime(df)\n",
        "\n",
        "\n",
        "def time_passed(df):\n",
        "  #Functionality: Get Time Difference between Two DF Columns\n",
        "  #Assumes: Two Datetime formated Columns (see datetime)\n",
        "\n",
        "  time1 = 'Date Time'\n",
        "  time2 = 'Clear Date Time'\n",
        "\n",
        "  df['m'] = (df[time2] - df[time1]).dt.total_seconds() / 60\n",
        "  df['s'] = (df[time2] - df[time1]).dt.total_seconds() \n",
        "  df['h'] = (df[time2] - df[time1]).dt.total_seconds() / 60 /60\n",
        "  df['d'] = (df[time2] - df[time1]).dt.total_seconds() / 60 / 60 / 24\n",
        "  df['full_d'] = (df[time2] - df[time1]).dt.days\n",
        "\n",
        "time_passed(df)"
      ],
      "metadata": {
        "id": "Cjqkkha1tUhd"
      },
      "execution_count": null,
      "outputs": []
    },
    {
      "cell_type": "markdown",
      "source": [
        "# **Response Time by Minute**"
      ],
      "metadata": {
        "id": "rVrDDru3egpm"
      }
    },
    {
      "cell_type": "code",
      "source": [
        "#RETRIEVING\n",
        "within_5 = df.loc[df['m'] <= 5]\n",
        "within_10 = df.loc[(df['m'] <= 10) & (df['m'] > 5)] \n",
        "within_15 = df.loc[(df['m'] <= 15) & (df['m'] > 10)]\n",
        "within_30 = df.loc[(df['m'] <= 30) & (df['m'] > 15)]\n",
        "over_30 = df.loc[(df['m'] > 30)]\n",
        "\n",
        "all_alerts = [within_5,within_10,within_15,within_30,over_30]\n",
        "Number_Cleared = []\n",
        "Percentage = []\n",
        "\n",
        "for i in all_alerts:\n",
        "  Number_Cleared.append(len(i.index))\n",
        "\n",
        "for i in Number_Cleared:\n",
        "  Percentage.append(100*(i/sum(Number_Cleared)))\n",
        "\n",
        "#TABLE\n",
        "\n",
        "print(\"Number of Alerts Cleared...\")\n",
        "print(\"  Within 5 Minutes: {} ({:.2f}%)\".format(Number_Cleared[0], Percentage[0]))\n",
        "print(\"  Within 10 Minutes: {} ({:.2f}%)\".format(Number_Cleared[1], Percentage[1]))\n",
        "print(\"  Within 15 Minutes: {} ({:.2f}%)\".format(Number_Cleared[2], Percentage[2]))\n",
        "print(\"  Within 30 Minutes: {} ({:.2f}%)\".format(Number_Cleared[3], Percentage[3]))\n",
        "print(\"  Over 30 Minutes: {} ({:.2f}%)\".format(Number_Cleared[4], Percentage[4]))\n",
        "print(\" \")\n",
        "print(\"Total Number of Cleared Alerts: {}\".format(sum(Number_Cleared)))\n",
        "print(\" \")\n",
        "\n",
        "#PLOT\n",
        "\n",
        "labels = '<5', '<10', '<15','<30', '+30'\n",
        "colors=['indianred', 'coral','mediumvioletred','bisque','lightseagreen']\n",
        "\n",
        "plt.pie(Percentage, labels=labels, colors=colors,\n",
        "        startangle=30, explode = (0.03, 0.06, 0.06,0.06,0.01),)\n",
        "\n",
        "plt.axis('equal') \n",
        "plt.title(\"Response Times by Minute\")\n",
        "fig = plt.gcf()\n",
        "fig.set_size_inches(4.5,4.5)\n",
        "plt.show()\n"
      ],
      "metadata": {
        "colab": {
          "base_uri": "https://localhost:8080/",
          "height": 561
        },
        "id": "r4n__nQELdtq",
        "outputId": "614df94c-72b9-40cc-e5b8-00cd608e11ea"
      },
      "execution_count": null,
      "outputs": [
        {
          "output_type": "stream",
          "name": "stdout",
          "text": [
            "Number of Alerts Cleared...\n",
            "  Within 5 Minutes: 34 (16.43%)\n",
            "  Within 10 Minutes: 14 (6.76%)\n",
            "  Within 15 Minutes: 17 (8.21%)\n",
            "  Within 30 Minutes: 27 (13.04%)\n",
            "  Over 30 Minutes: 115 (55.56%)\n",
            " \n",
            "Total Number of Cleared Alerts: 207\n",
            " \n"
          ]
        },
        {
          "output_type": "display_data",
          "data": {
            "text/plain": [
              "<Figure size 450x450 with 1 Axes>"
            ],
            "image/png": "[encoded data removed]"
          },
          "metadata": {}
        }
      ]
    },
    {
      "cell_type": "markdown",
      "source": [
        "# **Averages by Category**\n",
        "\n",
        "\n"
      ],
      "metadata": {
        "id": "XWeT1o0HNnY_"
      }
    },
    {
      "cell_type": "code",
      "source": [
        "total_mean = df['m'].mean()\n",
        "total_mean\n",
        "within_5_mean = within_5['m'].mean()\n",
        "within_5_mean\n",
        "within_10_mean = within_10['m'].mean()\n",
        "within_10_mean\n",
        "within_15_mean = within_15['m'].mean()\n",
        "within_15_mean\n",
        "within_30_mean = within_30['m'].mean()\n",
        "within_30_mean\n",
        "over_30_mean = over_30['m'].mean()\n",
        "over_30_mean\n",
        "print(\"Average Response Time Within 5 Minutes: {:.2f}\".format(within_5_mean))\n",
        "print(\"Average Response Time Within 10 Minutes: {:.2f}\".format(within_10_mean))\n",
        "print(\"Average Response Time Within 15 Minutes: {:.2f}\".format(within_15_mean))\n",
        "print(\"Average Response Time Within 30 Minutes: {:.2f}\".format(within_30_mean))\n",
        "print(\"Average Response Time Over 30 Minutes: {:.2f}\".format(over_30_mean))\n",
        "print()\n",
        "print(\"Total Average Response Time: {:.2f}\".format(total_mean))"
      ],
      "metadata": {
        "id": "IQtjeV86z9NK",
        "colab": {
          "base_uri": "https://localhost:8080/"
        },
        "outputId": "38ef347d-cfd6-4c1e-ab59-20e2a32c6671"
      },
      "execution_count": null,
      "outputs": [
        {
          "output_type": "stream",
          "name": "stdout",
          "text": [
            "Average Response Time Within 5 Minutes: 2.09\n",
            "Average Response Time Within 10 Minutes: 7.43\n",
            "Average Response Time Within 15 Minutes: 12.76\n",
            "Average Response Time Within 30 Minutes: 21.32\n",
            "Average Response Time Over 30 Minutes: 122.46\n",
            "\n",
            "Total Average Response Time: 72.71\n"
          ]
        }
      ]
    },
    {
      "cell_type": "markdown",
      "source": [
        "# **Monthly Averages**"
      ],
      "metadata": {
        "id": "Wh4F7XIPEHB7"
      }
    },
    {
      "cell_type": "code",
      "source": [
        "import numpy as np\n",
        "import matplotlib.pyplot as plt\n",
        " \n",
        "# create a dataset\n",
        "height = [11229.31, 452.71, 4714.32, 267.645, 678.59,38.495,710.52,432.43]\n",
        "bars = ('Dec. 21', 'Jan. 22', 'Feb. 22', 'Mar. 22', 'Apr. 22', 'May. 22', 'Jun. 22', 'Jul. 22')\n",
        "x_pos = np.arange(8)\n",
        "\n",
        "# Create bars with different colors\n",
        "plt.bar(x_pos, height, color=['indianred', 'lightseagreen'])\n",
        "\n",
        "# Create names on the x-axis\n",
        "plt.xticks(x_pos, bars)\n",
        "plt.title(\"Average Response Time by Month\")\n",
        "# Show graph\n",
        "plt.show()\n",
        "\n",
        "\"\"\"\n",
        "12.2021 - 11229.31\n",
        "1.2022 - 452.71\n",
        "2.2022 - 4714.32\n",
        "3.2022 - 267.645\n",
        "4.2022 - 678.59\n",
        "5.2022 - 38.495\n",
        "6.2022 - 710.52\n",
        "7.2022 - 432.43 \"\"\""
      ],
      "metadata": {
        "colab": {
          "base_uri": "https://localhost:8080/",
          "height": 317
        },
        "id": "LXIT36fD_Hdy",
        "outputId": "9ce2c55a-b2e3-4eda-caef-57367e489af5"
      },
      "execution_count": null,
      "outputs": [
        {
          "output_type": "display_data",
          "data": {
            "text/plain": [
              "<Figure size 432x288 with 1 Axes>"
            ],
            "image/png": "[encoded data removed]"
          },
          "metadata": {
            "needs_background": "light"
          }
        },
        {
          "output_type": "execute_result",
          "data": {
            "text/plain": [
              "'\\n12.2021 - 11229.31\\n1.2022 - 452.71\\n2.2022 - 4714.32\\n3.2022 - 267.645\\n4.2022 - 678.59\\n5.2022 - 38.495\\n6.2022 - 710.52\\n7.2022 - 432.43 '"
            ],
            "application/vnd.google.colaboratory.intrinsic+json": {
              "type": "string"
            }
          },
          "metadata": {},
          "execution_count": 17
        }
      ]
    }
  ]
}