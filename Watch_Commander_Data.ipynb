{
  "nbformat": 4,
  "nbformat_minor": 0,
  "metadata": {
    "colab": {
      "provenance": []
    },
    "kernelspec": {
      "name": "python3",
      "display_name": "Python 3"
    },
    "language_info": {
      "name": "python"
    }
  },
  "cells": [
    {
      "cell_type": "markdown",
      "source": [
        "# **Read in Data & Libraries**"
      ],
      "metadata": {
        "id": "7AIjnvIgH1jY"
      }
    },
    {
      "cell_type": "code",
      "execution_count": null,
      "metadata": {
        "id": "8HvILbSVHqey"
      },
      "outputs": [],
      "source": [
        "import numpy as np \n",
        "import datetime as dt\n",
        "import pandas as pd\n",
        "import matplotlib.pyplot as plt\n",
        "import os \n",
        "\n",
        "cardinal_df = pd.read_csv('Cardinal_March23.csv') #CHANGE FILE NAME TO 'Events_report.csv'\n",
        "westland_df = pd.read_csv('Westland_March23.csv')\n",
        "ashford_df = pd.read_csv('Ashford_March23.csv')\n",
        "\n",
        "#Number of Alerts Cleared\n",
        "    #SQL Union (Westland u Texas u Cardinal)\n",
        "    #Python Equivalenta: pd.concat([Westland,Cardinal,Texas])\n",
        "#Number of Alerts that Occured During Shift \n",
        "  #\n",
        "#Response Time by Minute\n",
        "#Average Response Time\n",
        "\n",
        "#Email ken for schedule for Watch Commander shifts for March\n",
        "\n",
        "#Each alert that occured during shift -> How long that alert took to clear (regardless of who cleared it)\n",
        "#Number of Alerts Cleared = Actually cleared by them regardless of shift \n",
        "\n"
      ]
    },
    {
      "cell_type": "markdown",
      "source": [
        "# **Number of Alerts Cleared**"
      ],
      "metadata": {
        "id": "0sjix7YMQbpX"
      }
    },
    {
      "cell_type": "code",
      "source": [
        "#Combine Datasets \n",
        "df = pd.concat([cardinal_df,westland_df, ashford_df])\n",
        "#Get Rid of Unneccesary Columns \n",
        "df = df.drop(columns = ['ID', 'Event Type', 'Latitude', 'Longitude', 'MIN', 'Clear','Threat Level'])\n",
        "df = df.dropna()\n",
        "#Leaving Only Commander ID for Comments\n",
        "df['Comments'] = df['Comments'].str.replace('\\D', '', regex=True)\n",
        "\n",
        "\n",
        "#Unique Values In Comments = All Watch Commander IDs \n",
        "all_IDs = df.Comments.unique()\n",
        "dictionary ={}\n",
        "for i in all_IDs:\n",
        "  x = df.loc[df['Comments']== i]\n",
        "  dictionary[i] = x #Dictionary with Key: User ID and Value: DF of every alert cleared \n",
        "\n",
        "for i in all_IDs:\n",
        "  print(\"User {} Cleared {} Alerts\".format(i,len(dictionary[i])))\n"
      ],
      "metadata": {
        "colab": {
          "base_uri": "https://localhost:8080/"
        },
        "id": "EyJ7vAYjQfpx",
        "outputId": "257f34f5-a75d-4605-b5ea-a6b49e7a53f0"
      },
      "execution_count": null,
      "outputs": [
        {
          "output_type": "stream",
          "name": "stdout",
          "text": [
            "User 0919 Cleared 496 Alerts\n",
            "User 9168 Cleared 257 Alerts\n",
            "User 919 Cleared 1 Alerts\n",
            "User 8235 Cleared 74 Alerts\n",
            "User 7732 Cleared 357 Alerts\n",
            "User 9162 Cleared 408 Alerts\n",
            "User 9133 Cleared 7 Alerts\n",
            "User 77321 Cleared 1 Alerts\n",
            "User  Cleared 1 Alerts\n",
            "User 191 Cleared 4 Alerts\n",
            "User 0019 Cleared 1 Alerts\n",
            "User 09 Cleared 4 Alerts\n",
            "User 9158 Cleared 3 Alerts\n"
          ]
        }
      ]
    },
    {
      "cell_type": "markdown",
      "source": [
        "# **Average Response Time**\n",
        "\n",
        "\n"
      ],
      "metadata": {
        "id": "Q7p5qiM1Zk4Z"
      }
    },
    {
      "cell_type": "code",
      "source": [
        "#Formatting Date and Time\n",
        "\n",
        "\n",
        "df['Clear Date'] = df['Clear Date'].str.replace(r\"(\",\"\")\n",
        "df['Clear Date'] = df['Clear Date'].str.replace(r\")\",\"\")\n",
        "df['Clear Date'] = df['Clear Date'].str.replace(r\"'\",\"\")\n",
        "df['Clear Date'] = df['Clear Date'].str.replace(r\",\",\"\")\n",
        "\n",
        "df['Clear Time'] = df['Clear Time'] .str.replace(r\"(\",\"\")\n",
        "df['Clear Time'] = df['Clear Time'] .str.replace(r\")\",\"\")\n",
        "df['Clear Time'] = df['Clear Time'] .str.replace(r\"'\",\"\")\n",
        "df['Clear Time']  = df['Clear Time'] .str.replace(r\",\",\"\")\n",
        "\n",
        "def datetime(df): \n",
        "  \n",
        "  #Functionality: Converts 4 date & time columns to two DateTime columns \n",
        "  #Asssumes: 4 Columns, 2 clean dates, 2 clean times \n",
        "\n",
        "  df['Date Time' ] = df['Date'] + \" \" +  df['Time']\n",
        "  df['Clear Date Time' ] = df['Clear Date'] + \" \" +  df['Clear Time']\n",
        "  \n",
        "  df['Date Time'] = pd.to_datetime(df['Date Time'], errors='coerce')\n",
        "  df['Clear Date Time'] = pd.to_datetime(df['Clear Date Time'], errors='coerce')\n",
        "\n",
        "datetime(df)\n",
        "\n",
        "\n",
        "def time_passed(df):\n",
        "  #Functionality: Get Time Difference between Two DF Columns\n",
        "  #Assumes: Two Datetime formated Columns (see datetime)\n",
        "\n",
        "  time1 = 'Date Time'\n",
        "  time2 = 'Clear Date Time'\n",
        "\n",
        "  df['m'] = (df[time2] - df[time1]).dt.total_seconds() / 60\n",
        "  df['s'] = (df[time2] - df[time1]).dt.total_seconds() \n",
        "  df['h'] = (df[time2] - df[time1]).dt.total_seconds() / 60 /60\n",
        "  df['d'] = (df[time2] - df[time1]).dt.total_seconds() / 60 / 60 / 24\n",
        "  df['full_d'] = (df[time2] - df[time1]).dt.days\n",
        "\n",
        "time_passed(df)\n",
        "\n",
        "#Formatting Previously Made Dictionary\n",
        "for i in all_IDs:\n",
        "  dictionary[i]['Clear Date'] = dictionary[i]['Clear Date'].str.replace(r\"(\",\"\")\n",
        "  dictionary[i]['Clear Date'] = dictionary[i]['Clear Date'].str.replace(r\")\",\"\")\n",
        "  dictionary[i]['Clear Date'] = dictionary[i]['Clear Date'].str.replace(r\"'\",\"\")  \n",
        "  dictionary[i]['Clear Date'] = dictionary[i]['Clear Date'].str.replace(r\",\",\"\")\n",
        "\n",
        "  dictionary[i]['Clear Time'] = dictionary[i]['Clear Time'] .str.replace(r\"(\",\"\")\n",
        "  dictionary[i]['Clear Time'] = dictionary[i]['Clear Time'] .str.replace(r\")\",\"\")\n",
        "  dictionary[i]['Clear Time'] = dictionary[i]['Clear Time'] .str.replace(r\"'\",\"\")\n",
        "  dictionary[i]['Clear Time']  = dictionary[i]['Clear Time'] .str.replace(r\",\",\"\")  \n",
        "\n",
        "  datetime(dictionary[i])\n",
        "  time_passed(dictionary[i])"
      ],
      "metadata": {
        "colab": {
          "base_uri": "https://localhost:8080/"
        },
        "id": "cEEwcgLDbLVB",
        "outputId": "f26515af-2fe3-495b-a693-396252a9ceac"
      },
      "execution_count": null,
      "outputs": [
        {
          "output_type": "stream",
          "name": "stderr",
          "text": [
            "<ipython-input-34-3ca81bb1bb9b>:1: FutureWarning: The default value of regex will change from True to False in a future version. In addition, single character regular expressions will *not* be treated as literal strings when regex=True.\n",
            "  df['Clear Date'] = df['Clear Date'].str.replace(r\"(\",\"\")\n",
            "<ipython-input-34-3ca81bb1bb9b>:2: FutureWarning: The default value of regex will change from True to False in a future version. In addition, single character regular expressions will *not* be treated as literal strings when regex=True.\n",
            "  df['Clear Date'] = df['Clear Date'].str.replace(r\")\",\"\")\n",
            "<ipython-input-34-3ca81bb1bb9b>:6: FutureWarning: The default value of regex will change from True to False in a future version. In addition, single character regular expressions will *not* be treated as literal strings when regex=True.\n",
            "  df['Clear Time'] = df['Clear Time'] .str.replace(r\"(\",\"\")\n",
            "<ipython-input-34-3ca81bb1bb9b>:7: FutureWarning: The default value of regex will change from True to False in a future version. In addition, single character regular expressions will *not* be treated as literal strings when regex=True.\n",
            "  df['Clear Time'] = df['Clear Time'] .str.replace(r\")\",\"\")\n"
          ]
        }
      ]
    },
    {
      "cell_type": "code",
      "source": [
        "for i in all_IDs:\n",
        "  mean = dictionary[i]['m'].mean()\n",
        "  print(\"User {} Cleared Responses with an Average Time Of: {:.2f}\".format(i,mean))"
      ],
      "metadata": {
        "colab": {
          "base_uri": "https://localhost:8080/"
        },
        "id": "Y9TnLbcodf0m",
        "outputId": "31d8ddbe-cd3c-4351-c1bc-5fb61df37824"
      },
      "execution_count": null,
      "outputs": [
        {
          "output_type": "stream",
          "name": "stdout",
          "text": [
            "User 0919 Cleared Responses with an Average Time Of: 58.06\n",
            "User 9168 Cleared Responses with an Average Time Of: 118.41\n",
            "User 919 Cleared Responses with an Average Time Of: 29.03\n",
            "User 8235 Cleared Responses with an Average Time Of: 24.47\n",
            "User 7732 Cleared Responses with an Average Time Of: 52.24\n",
            "User 9162 Cleared Responses with an Average Time Of: 55.23\n",
            "User 9133 Cleared Responses with an Average Time Of: 5.02\n",
            "User 77321 Cleared Responses with an Average Time Of: 0.78\n",
            "User  Cleared Responses with an Average Time Of: 7.70\n",
            "User 191 Cleared Responses with an Average Time Of: 59.89\n",
            "User 0019 Cleared Responses with an Average Time Of: 2.43\n",
            "User 09 Cleared Responses with an Average Time Of: 80.96\n",
            "User 9158 Cleared Responses with an Average Time Of: 17.39\n"
          ]
        }
      ]
    },
    {
      "cell_type": "markdown",
      "source": [
        "# **Response Time by Minute**"
      ],
      "metadata": {
        "id": "AhLqkvtnhKy9"
      }
    },
    {
      "cell_type": "code",
      "source": [
        "for i in all_IDs: \n",
        "  df = dictionary[i]\n",
        "  within_5 = df.loc[df['m'] <= 5]\n",
        "  within_10 = df.loc[(df['m'] <= 10) & (df['m'] > 5)] \n",
        "  within_15 = df.loc[(df['m'] <= 15) & (df['m'] > 10)]\n",
        "  within_30 = df.loc[(df['m'] <= 30) & (df['m'] > 15)]\n",
        "  over_30 = df.loc[(df['m'] > 30)]\n",
        "\n",
        "  all_alerts = [within_5,within_10,within_15,within_30,over_30]\n",
        "  Number_Cleared = []\n",
        "  Percentage = []\n",
        "\n",
        "  for t in all_alerts:\n",
        "    Number_Cleared.append(len(t.index))\n",
        "\n",
        "  for m in Number_Cleared:\n",
        "    Percentage.append(100*(m/sum(Number_Cleared)))\n",
        "\n",
        "  #TABLE\n",
        "  print(\"Number of Alerts Cleared...{}\".format(i))\n",
        "  print(\"  Within 5 Minutes: {} ({:.2f}%)\".format(Number_Cleared[0], Percentage[0]))\n",
        "  print(\"  Within 10 Minutes: {} ({:.2f}%)\".format(Number_Cleared[1], Percentage[1]))\n",
        "  print(\"  Within 15 Minutes: {} ({:.2f}%)\".format(Number_Cleared[2], Percentage[2]))\n",
        "  print(\"  Within 30 Minutes: {} ({:.2f}%)\".format(Number_Cleared[3], Percentage[3]))\n",
        "  print(\"  Over 30 Minutes: {} ({:.2f}%)\".format(Number_Cleared[4], Percentage[4]))\n",
        "  print(\" \")\n",
        "  print(\"Total Number of Cleared Alerts: {}\".format(sum(Number_Cleared)))\n",
        "  print(\" \")"
      ],
      "metadata": {
        "colab": {
          "base_uri": "https://localhost:8080/"
        },
        "id": "mHE8ns2yhPw7",
        "outputId": "a53e148a-3e37-4fb9-df2e-adba0a08534d"
      },
      "execution_count": null,
      "outputs": [
        {
          "output_type": "stream",
          "name": "stdout",
          "text": [
            "Number of Alerts Cleared...0919\n",
            "  Within 5 Minutes: 111 (22.38%)\n",
            "  Within 10 Minutes: 36 (7.26%)\n",
            "  Within 15 Minutes: 47 (9.48%)\n",
            "  Within 30 Minutes: 83 (16.73%)\n",
            "  Over 30 Minutes: 219 (44.15%)\n",
            " \n",
            "Total Number of Cleared Alerts: 496\n",
            " \n",
            "Number of Alerts Cleared...9168\n",
            "  Within 5 Minutes: 87 (33.85%)\n",
            "  Within 10 Minutes: 14 (5.45%)\n",
            "  Within 15 Minutes: 16 (6.23%)\n",
            "  Within 30 Minutes: 27 (10.51%)\n",
            "  Over 30 Minutes: 113 (43.97%)\n",
            " \n",
            "Total Number of Cleared Alerts: 257\n",
            " \n",
            "Number of Alerts Cleared...919\n",
            "  Within 5 Minutes: 0 (0.00%)\n",
            "  Within 10 Minutes: 0 (0.00%)\n",
            "  Within 15 Minutes: 0 (0.00%)\n",
            "  Within 30 Minutes: 1 (100.00%)\n",
            "  Over 30 Minutes: 0 (0.00%)\n",
            " \n",
            "Total Number of Cleared Alerts: 1\n",
            " \n",
            "Number of Alerts Cleared...8235\n",
            "  Within 5 Minutes: 40 (54.05%)\n",
            "  Within 10 Minutes: 3 (4.05%)\n",
            "  Within 15 Minutes: 6 (8.11%)\n",
            "  Within 30 Minutes: 9 (12.16%)\n",
            "  Over 30 Minutes: 16 (21.62%)\n",
            " \n",
            "Total Number of Cleared Alerts: 74\n",
            " \n",
            "Number of Alerts Cleared...7732\n",
            "  Within 5 Minutes: 49 (13.73%)\n",
            "  Within 10 Minutes: 27 (7.56%)\n",
            "  Within 15 Minutes: 30 (8.40%)\n",
            "  Within 30 Minutes: 58 (16.25%)\n",
            "  Over 30 Minutes: 193 (54.06%)\n",
            " \n",
            "Total Number of Cleared Alerts: 357\n",
            " \n",
            "Number of Alerts Cleared...9162\n",
            "  Within 5 Minutes: 110 (26.96%)\n",
            "  Within 10 Minutes: 57 (13.97%)\n",
            "  Within 15 Minutes: 36 (8.82%)\n",
            "  Within 30 Minutes: 54 (13.24%)\n",
            "  Over 30 Minutes: 151 (37.01%)\n",
            " \n",
            "Total Number of Cleared Alerts: 408\n",
            " \n",
            "Number of Alerts Cleared...9133\n",
            "  Within 5 Minutes: 5 (71.43%)\n",
            "  Within 10 Minutes: 0 (0.00%)\n",
            "  Within 15 Minutes: 1 (14.29%)\n",
            "  Within 30 Minutes: 1 (14.29%)\n",
            "  Over 30 Minutes: 0 (0.00%)\n",
            " \n",
            "Total Number of Cleared Alerts: 7\n",
            " \n",
            "Number of Alerts Cleared...77321\n",
            "  Within 5 Minutes: 1 (100.00%)\n",
            "  Within 10 Minutes: 0 (0.00%)\n",
            "  Within 15 Minutes: 0 (0.00%)\n",
            "  Within 30 Minutes: 0 (0.00%)\n",
            "  Over 30 Minutes: 0 (0.00%)\n",
            " \n",
            "Total Number of Cleared Alerts: 1\n",
            " \n",
            "Number of Alerts Cleared...\n",
            "  Within 5 Minutes: 0 (0.00%)\n",
            "  Within 10 Minutes: 1 (100.00%)\n",
            "  Within 15 Minutes: 0 (0.00%)\n",
            "  Within 30 Minutes: 0 (0.00%)\n",
            "  Over 30 Minutes: 0 (0.00%)\n",
            " \n",
            "Total Number of Cleared Alerts: 1\n",
            " \n",
            "Number of Alerts Cleared...191\n",
            "  Within 5 Minutes: 1 (25.00%)\n",
            "  Within 10 Minutes: 0 (0.00%)\n",
            "  Within 15 Minutes: 0 (0.00%)\n",
            "  Within 30 Minutes: 1 (25.00%)\n",
            "  Over 30 Minutes: 2 (50.00%)\n",
            " \n",
            "Total Number of Cleared Alerts: 4\n",
            " \n",
            "Number of Alerts Cleared...0019\n",
            "  Within 5 Minutes: 1 (100.00%)\n",
            "  Within 10 Minutes: 0 (0.00%)\n",
            "  Within 15 Minutes: 0 (0.00%)\n",
            "  Within 30 Minutes: 0 (0.00%)\n",
            "  Over 30 Minutes: 0 (0.00%)\n",
            " \n",
            "Total Number of Cleared Alerts: 1\n",
            " \n",
            "Number of Alerts Cleared...09\n",
            "  Within 5 Minutes: 0 (0.00%)\n",
            "  Within 10 Minutes: 0 (0.00%)\n",
            "  Within 15 Minutes: 0 (0.00%)\n",
            "  Within 30 Minutes: 0 (0.00%)\n",
            "  Over 30 Minutes: 4 (100.00%)\n",
            " \n",
            "Total Number of Cleared Alerts: 4\n",
            " \n",
            "Number of Alerts Cleared...9158\n",
            "  Within 5 Minutes: 1 (33.33%)\n",
            "  Within 10 Minutes: 0 (0.00%)\n",
            "  Within 15 Minutes: 0 (0.00%)\n",
            "  Within 30 Minutes: 2 (66.67%)\n",
            "  Over 30 Minutes: 0 (0.00%)\n",
            " \n",
            "Total Number of Cleared Alerts: 3\n",
            " \n"
          ]
        }
      ]
    }
  ]
}